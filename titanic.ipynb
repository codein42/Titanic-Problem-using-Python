{
 "cells": [
  {
   "cell_type": "code",
   "execution_count": 1,
   "metadata": {},
   "outputs": [],
   "source": [
    "import pandas as pd\n",
    "import numpy as np\n",
    "import matplotlib.pyplot as plt"
   ]
  },
  {
   "cell_type": "code",
   "execution_count": 100,
   "metadata": {},
   "outputs": [],
   "source": [
    "df = pd.read_csv(\"../datasets/titanic/train.csv\")"
   ]
  },
  {
   "cell_type": "code",
   "execution_count": 3,
   "metadata": {},
   "outputs": [
    {
     "data": {
      "text/plain": [
       "Index(['PassengerId', 'Survived', 'Pclass', 'Name', 'Sex', 'Age', 'SibSp',\n",
       "       'Parch', 'Ticket', 'Fare', 'Cabin', 'Embarked'],\n",
       "      dtype='object')"
      ]
     },
     "execution_count": 3,
     "metadata": {},
     "output_type": "execute_result"
    }
   ],
   "source": [
    "df.columns"
   ]
  },
  {
   "cell_type": "code",
   "execution_count": 51,
   "metadata": {},
   "outputs": [],
   "source": [
    "cut = df[['Survived', 'Pclass', 'Sex', 'Age', 'SibSp',\n",
    "       'Parch']].copy()"
   ]
  },
  {
   "cell_type": "code",
   "execution_count": 52,
   "metadata": {},
   "outputs": [],
   "source": [
    "second = df.drop(['PassengerId', 'Name', 'Ticket', 'Fare', 'Cabin', 'Embarked'], axis=1)"
   ]
  },
  {
   "cell_type": "code",
   "execution_count": 53,
   "metadata": {},
   "outputs": [
    {
     "data": {
      "text/html": [
       "<div>\n",
       "<style scoped>\n",
       "    .dataframe tbody tr th:only-of-type {\n",
       "        vertical-align: middle;\n",
       "    }\n",
       "\n",
       "    .dataframe tbody tr th {\n",
       "        vertical-align: top;\n",
       "    }\n",
       "\n",
       "    .dataframe thead th {\n",
       "        text-align: right;\n",
       "    }\n",
       "</style>\n",
       "<table border=\"1\" class=\"dataframe\">\n",
       "  <thead>\n",
       "    <tr style=\"text-align: right;\">\n",
       "      <th></th>\n",
       "      <th>Survived</th>\n",
       "      <th>Pclass</th>\n",
       "      <th>Age</th>\n",
       "      <th>SibSp</th>\n",
       "      <th>Parch</th>\n",
       "    </tr>\n",
       "  </thead>\n",
       "  <tbody>\n",
       "    <tr>\n",
       "      <th>count</th>\n",
       "      <td>891.000000</td>\n",
       "      <td>891.000000</td>\n",
       "      <td>714.000000</td>\n",
       "      <td>891.000000</td>\n",
       "      <td>891.000000</td>\n",
       "    </tr>\n",
       "    <tr>\n",
       "      <th>mean</th>\n",
       "      <td>0.383838</td>\n",
       "      <td>2.308642</td>\n",
       "      <td>29.699118</td>\n",
       "      <td>0.523008</td>\n",
       "      <td>0.381594</td>\n",
       "    </tr>\n",
       "    <tr>\n",
       "      <th>std</th>\n",
       "      <td>0.486592</td>\n",
       "      <td>0.836071</td>\n",
       "      <td>14.526497</td>\n",
       "      <td>1.102743</td>\n",
       "      <td>0.806057</td>\n",
       "    </tr>\n",
       "    <tr>\n",
       "      <th>min</th>\n",
       "      <td>0.000000</td>\n",
       "      <td>1.000000</td>\n",
       "      <td>0.420000</td>\n",
       "      <td>0.000000</td>\n",
       "      <td>0.000000</td>\n",
       "    </tr>\n",
       "    <tr>\n",
       "      <th>25%</th>\n",
       "      <td>0.000000</td>\n",
       "      <td>2.000000</td>\n",
       "      <td>20.125000</td>\n",
       "      <td>0.000000</td>\n",
       "      <td>0.000000</td>\n",
       "    </tr>\n",
       "    <tr>\n",
       "      <th>50%</th>\n",
       "      <td>0.000000</td>\n",
       "      <td>3.000000</td>\n",
       "      <td>28.000000</td>\n",
       "      <td>0.000000</td>\n",
       "      <td>0.000000</td>\n",
       "    </tr>\n",
       "    <tr>\n",
       "      <th>75%</th>\n",
       "      <td>1.000000</td>\n",
       "      <td>3.000000</td>\n",
       "      <td>38.000000</td>\n",
       "      <td>1.000000</td>\n",
       "      <td>0.000000</td>\n",
       "    </tr>\n",
       "    <tr>\n",
       "      <th>max</th>\n",
       "      <td>1.000000</td>\n",
       "      <td>3.000000</td>\n",
       "      <td>80.000000</td>\n",
       "      <td>8.000000</td>\n",
       "      <td>6.000000</td>\n",
       "    </tr>\n",
       "  </tbody>\n",
       "</table>\n",
       "</div>"
      ],
      "text/plain": [
       "         Survived      Pclass         Age       SibSp       Parch\n",
       "count  891.000000  891.000000  714.000000  891.000000  891.000000\n",
       "mean     0.383838    2.308642   29.699118    0.523008    0.381594\n",
       "std      0.486592    0.836071   14.526497    1.102743    0.806057\n",
       "min      0.000000    1.000000    0.420000    0.000000    0.000000\n",
       "25%      0.000000    2.000000   20.125000    0.000000    0.000000\n",
       "50%      0.000000    3.000000   28.000000    0.000000    0.000000\n",
       "75%      1.000000    3.000000   38.000000    1.000000    0.000000\n",
       "max      1.000000    3.000000   80.000000    8.000000    6.000000"
      ]
     },
     "execution_count": 53,
     "metadata": {},
     "output_type": "execute_result"
    }
   ],
   "source": [
    "cut.describe()"
   ]
  },
  {
   "cell_type": "code",
   "execution_count": 54,
   "metadata": {},
   "outputs": [
    {
     "name": "stdout",
     "output_type": "stream",
     "text": [
      "<class 'pandas.core.frame.DataFrame'>\n",
      "RangeIndex: 891 entries, 0 to 890\n",
      "Data columns (total 6 columns):\n",
      "Survived    891 non-null int64\n",
      "Pclass      891 non-null int64\n",
      "Sex         891 non-null object\n",
      "Age         714 non-null float64\n",
      "SibSp       891 non-null int64\n",
      "Parch       891 non-null int64\n",
      "dtypes: float64(1), int64(4), object(1)\n",
      "memory usage: 41.8+ KB\n"
     ]
    }
   ],
   "source": [
    "cut.info()"
   ]
  },
  {
   "cell_type": "code",
   "execution_count": 55,
   "metadata": {},
   "outputs": [],
   "source": [
    "s = pd.Series([1, np.nan, 3, 5, np.nan, 9])"
   ]
  },
  {
   "cell_type": "code",
   "execution_count": 56,
   "metadata": {},
   "outputs": [],
   "source": [
    "# cut[\"Age\"].fillna(cut[\"Age\"].mean(), inplace=True)"
   ]
  },
  {
   "cell_type": "code",
   "execution_count": 57,
   "metadata": {},
   "outputs": [
    {
     "name": "stdout",
     "output_type": "stream",
     "text": [
      "<class 'pandas.core.frame.DataFrame'>\n",
      "RangeIndex: 891 entries, 0 to 890\n",
      "Data columns (total 6 columns):\n",
      "Survived    891 non-null int64\n",
      "Pclass      891 non-null int64\n",
      "Sex         891 non-null object\n",
      "Age         714 non-null float64\n",
      "SibSp       891 non-null int64\n",
      "Parch       891 non-null int64\n",
      "dtypes: float64(1), int64(4), object(1)\n",
      "memory usage: 41.8+ KB\n"
     ]
    }
   ],
   "source": [
    "cut.info()"
   ]
  },
  {
   "cell_type": "code",
   "execution_count": 70,
   "metadata": {},
   "outputs": [],
   "source": [
    "droped = cut.loc[cut[\"Age\"].isna()]"
   ]
  },
  {
   "cell_type": "code",
   "execution_count": 76,
   "metadata": {},
   "outputs": [],
   "source": [
    "cut.dropna(inplace=True)"
   ]
  },
  {
   "cell_type": "code",
   "execution_count": 77,
   "metadata": {},
   "outputs": [],
   "source": [
    "board = cut.groupby([\"Survived\", \"Pclass\", \"Sex\"])[[\"Age\"]].mean()\n",
    "board.reset_index(inplace=True)"
   ]
  },
  {
   "cell_type": "code",
   "execution_count": 91,
   "metadata": {},
   "outputs": [],
   "source": [
    "def get_age(row):\n",
    "    \n",
    "    item = board.loc[(board[\"Survived\"]==row[\"Survived\"]) & (board[\"Pclass\"]==row[\"Pclass\"]) & (board[\"Sex\"]==row[\"Sex\"])]\n",
    "    row[\"Age\"] = item.iat[0,-1]\n",
    "    return row"
   ]
  },
  {
   "cell_type": "code",
   "execution_count": 90,
   "metadata": {},
   "outputs": [
    {
     "data": {
      "text/html": [
       "<div>\n",
       "<style scoped>\n",
       "    .dataframe tbody tr th:only-of-type {\n",
       "        vertical-align: middle;\n",
       "    }\n",
       "\n",
       "    .dataframe tbody tr th {\n",
       "        vertical-align: top;\n",
       "    }\n",
       "\n",
       "    .dataframe thead th {\n",
       "        text-align: right;\n",
       "    }\n",
       "</style>\n",
       "<table border=\"1\" class=\"dataframe\">\n",
       "  <thead>\n",
       "    <tr style=\"text-align: right;\">\n",
       "      <th></th>\n",
       "      <th>Survived</th>\n",
       "      <th>Pclass</th>\n",
       "      <th>Sex</th>\n",
       "      <th>Age</th>\n",
       "    </tr>\n",
       "  </thead>\n",
       "  <tbody>\n",
       "    <tr>\n",
       "      <th>1</th>\n",
       "      <td>0</td>\n",
       "      <td>1</td>\n",
       "      <td>male</td>\n",
       "      <td>44.581967</td>\n",
       "    </tr>\n",
       "  </tbody>\n",
       "</table>\n",
       "</div>"
      ],
      "text/plain": [
       "   Survived  Pclass   Sex        Age\n",
       "1         0       1  male  44.581967"
      ]
     },
     "execution_count": 90,
     "metadata": {},
     "output_type": "execute_result"
    }
   ],
   "source": [
    "board.loc[(board[\"Survived\"]==0) & (board[\"Pclass\"]==1) & (board[\"Sex\"]==\"male\")]"
   ]
  },
  {
   "cell_type": "code",
   "execution_count": 97,
   "metadata": {},
   "outputs": [],
   "source": [
    "droped = droped.apply(get_age, axis=1)"
   ]
  },
  {
   "cell_type": "code",
   "execution_count": 98,
   "metadata": {},
   "outputs": [],
   "source": [
    "total = pd.concat([cut, droped])"
   ]
  },
  {
   "cell_type": "code",
   "execution_count": 99,
   "metadata": {},
   "outputs": [
    {
     "name": "stdout",
     "output_type": "stream",
     "text": [
      "<class 'pandas.core.frame.DataFrame'>\n",
      "Int64Index: 891 entries, 0 to 888\n",
      "Data columns (total 6 columns):\n",
      "Survived    891 non-null int64\n",
      "Pclass      891 non-null int64\n",
      "Sex         891 non-null object\n",
      "Age         891 non-null float64\n",
      "SibSp       891 non-null int64\n",
      "Parch       891 non-null int64\n",
      "dtypes: float64(1), int64(4), object(1)\n",
      "memory usage: 48.7+ KB\n"
     ]
    }
   ],
   "source": [
    "total.info()"
   ]
  },
  {
   "cell_type": "code",
   "execution_count": 105,
   "metadata": {},
   "outputs": [
    {
     "data": {
      "text/plain": [
       "\u001b[0;31mSignature:\u001b[0m\n",
       "\u001b[0mdf\u001b[0m\u001b[0;34m.\u001b[0m\u001b[0minterpolate\u001b[0m\u001b[0;34m(\u001b[0m\u001b[0;34m\u001b[0m\n",
       "\u001b[0;34m\u001b[0m    \u001b[0;34m[\u001b[0m\u001b[0;34m\"method='linear'\"\u001b[0m\u001b[0;34m,\u001b[0m \u001b[0;34m'axis=0'\u001b[0m\u001b[0;34m,\u001b[0m \u001b[0;34m'limit=None'\u001b[0m\u001b[0;34m,\u001b[0m \u001b[0;34m'inplace=False'\u001b[0m\u001b[0;34m,\u001b[0m \u001b[0;34m\"limit_direction='forward'\"\u001b[0m\u001b[0;34m,\u001b[0m \u001b[0;34m'limit_area=None'\u001b[0m\u001b[0;34m,\u001b[0m \u001b[0;34m'downcast=None'\u001b[0m\u001b[0;34m,\u001b[0m \u001b[0;34m'**kwargs'\u001b[0m\u001b[0;34m]\u001b[0m\u001b[0;34m,\u001b[0m\u001b[0;34m\u001b[0m\n",
       "\u001b[0;34m\u001b[0m\u001b[0;34m)\u001b[0m\u001b[0;34m\u001b[0m\u001b[0;34m\u001b[0m\u001b[0m\n",
       "\u001b[0;31mDocstring:\u001b[0m\n",
       "Interpolate values according to different methods.\n",
       "\n",
       "Please note that only ``method='linear'`` is supported for\n",
       "DataFrame/Series with a MultiIndex.\n",
       "\n",
       "Parameters\n",
       "----------\n",
       "method : str, default 'linear'\n",
       "    Interpolation technique to use. One of:\n",
       "\n",
       "    * 'linear': Ignore the index and treat the values as equally\n",
       "      spaced. This is the only method supported on MultiIndexes.\n",
       "    * 'time': Works on daily and higher resolution data to interpolate\n",
       "      given length of interval.\n",
       "    * 'index', 'values': use the actual numerical values of the index.\n",
       "    * 'pad': Fill in NaNs using existing values.\n",
       "    * 'nearest', 'zero', 'slinear', 'quadratic', 'cubic', 'spline',\n",
       "      'barycentric', 'polynomial': Passed to\n",
       "      `scipy.interpolate.interp1d`. Both 'polynomial' and 'spline'\n",
       "      require that you also specify an `order` (int),\n",
       "      e.g. ``df.interpolate(method='polynomial', order=4)``.\n",
       "      These use the numerical values of the index.\n",
       "    * 'krogh', 'piecewise_polynomial', 'spline', 'pchip', 'akima':\n",
       "      Wrappers around the SciPy interpolation methods of similar\n",
       "      names. See `Notes`.\n",
       "    * 'from_derivatives': Refers to\n",
       "      `scipy.interpolate.BPoly.from_derivatives` which\n",
       "      replaces 'piecewise_polynomial' interpolation method in\n",
       "      scipy 0.18.\n",
       "\n",
       "    .. versionadded:: 0.18.1\n",
       "\n",
       "       Added support for the 'akima' method.\n",
       "       Added interpolate method 'from_derivatives' which replaces\n",
       "       'piecewise_polynomial' in SciPy 0.18; backwards-compatible with\n",
       "       SciPy < 0.18\n",
       "\n",
       "axis : {0 or 'index', 1 or 'columns', None}, default None\n",
       "    Axis to interpolate along.\n",
       "limit : int, optional\n",
       "    Maximum number of consecutive NaNs to fill. Must be greater than\n",
       "    0.\n",
       "inplace : bool, default False\n",
       "    Update the data in place if possible.\n",
       "limit_direction : {'forward', 'backward', 'both'}, default 'forward'\n",
       "    If limit is specified, consecutive NaNs will be filled in this\n",
       "    direction.\n",
       "limit_area : {`None`, 'inside', 'outside'}, default None\n",
       "    If limit is specified, consecutive NaNs will be filled with this\n",
       "    restriction.\n",
       "\n",
       "    * ``None``: No fill restriction.\n",
       "    * 'inside': Only fill NaNs surrounded by valid values\n",
       "      (interpolate).\n",
       "    * 'outside': Only fill NaNs outside valid values (extrapolate).\n",
       "\n",
       "    .. versionadded:: 0.21.0\n",
       "\n",
       "downcast : optional, 'infer' or None, defaults to None\n",
       "    Downcast dtypes if possible.\n",
       "**kwargs\n",
       "    Keyword arguments to pass on to the interpolating function.\n",
       "\n",
       "Returns\n",
       "-------\n",
       "Series or DataFrame\n",
       "    Returns the same object type as the caller, interpolated at\n",
       "    some or all ``NaN`` values\n",
       "\n",
       "See Also\n",
       "--------\n",
       "fillna : Fill missing values using different methods.\n",
       "scipy.interpolate.Akima1DInterpolator : Piecewise cubic polynomials\n",
       "    (Akima interpolator).\n",
       "scipy.interpolate.BPoly.from_derivatives : Piecewise polynomial in the\n",
       "    Bernstein basis.\n",
       "scipy.interpolate.interp1d : Interpolate a 1-D function.\n",
       "scipy.interpolate.KroghInterpolator : Interpolate polynomial (Krogh\n",
       "    interpolator).\n",
       "scipy.interpolate.PchipInterpolator : PCHIP 1-d monotonic cubic\n",
       "    interpolation.\n",
       "scipy.interpolate.CubicSpline : Cubic spline data interpolator.\n",
       "\n",
       "Notes\n",
       "-----\n",
       "The 'krogh', 'piecewise_polynomial', 'spline', 'pchip' and 'akima'\n",
       "methods are wrappers around the respective SciPy implementations of\n",
       "similar names. These use the actual numerical values of the index.\n",
       "For more information on their behavior, see the\n",
       "`SciPy documentation\n",
       "<http://docs.scipy.org/doc/scipy/reference/interpolate.html#univariate-interpolation>`__\n",
       "and `SciPy tutorial\n",
       "<http://docs.scipy.org/doc/scipy/reference/tutorial/interpolate.html>`__.\n",
       "\n",
       "Examples\n",
       "--------\n",
       "Filling in ``NaN`` in a :class:`~pandas.Series` via linear\n",
       "interpolation.\n",
       "\n",
       ">>> s = pd.Series([0, 1, np.nan, 3])\n",
       ">>> s\n",
       "0    0.0\n",
       "1    1.0\n",
       "2    NaN\n",
       "3    3.0\n",
       "dtype: float64\n",
       ">>> s.interpolate()\n",
       "0    0.0\n",
       "1    1.0\n",
       "2    2.0\n",
       "3    3.0\n",
       "dtype: float64\n",
       "\n",
       "Filling in ``NaN`` in a Series by padding, but filling at most two\n",
       "consecutive ``NaN`` at a time.\n",
       "\n",
       ">>> s = pd.Series([np.nan, \"single_one\", np.nan,\n",
       "...                \"fill_two_more\", np.nan, np.nan, np.nan,\n",
       "...                4.71, np.nan])\n",
       ">>> s\n",
       "0              NaN\n",
       "1       single_one\n",
       "2              NaN\n",
       "3    fill_two_more\n",
       "4              NaN\n",
       "5              NaN\n",
       "6              NaN\n",
       "7             4.71\n",
       "8              NaN\n",
       "dtype: object\n",
       ">>> s.interpolate(method='pad', limit=2)\n",
       "0              NaN\n",
       "1       single_one\n",
       "2       single_one\n",
       "3    fill_two_more\n",
       "4    fill_two_more\n",
       "5    fill_two_more\n",
       "6              NaN\n",
       "7             4.71\n",
       "8             4.71\n",
       "dtype: object\n",
       "\n",
       "Filling in ``NaN`` in a Series via polynomial interpolation or splines:\n",
       "Both 'polynomial' and 'spline' methods require that you also specify\n",
       "an ``order`` (int).\n",
       "\n",
       ">>> s = pd.Series([0, 2, np.nan, 8])\n",
       ">>> s.interpolate(method='polynomial', order=2)\n",
       "0    0.000000\n",
       "1    2.000000\n",
       "2    4.666667\n",
       "3    8.000000\n",
       "dtype: float64\n",
       "\n",
       "Fill the DataFrame forward (that is, going down) along each column\n",
       "using linear interpolation.\n",
       "\n",
       "Note how the last entry in column 'a' is interpolated differently,\n",
       "because there is no entry after it to use for interpolation.\n",
       "Note how the first entry in column 'b' remains ``NaN``, because there\n",
       "is no entry befofe it to use for interpolation.\n",
       "\n",
       ">>> df = pd.DataFrame([(0.0,  np.nan, -1.0, 1.0),\n",
       "...                    (np.nan, 2.0, np.nan, np.nan),\n",
       "...                    (2.0, 3.0, np.nan, 9.0),\n",
       "...                    (np.nan, 4.0, -4.0, 16.0)],\n",
       "...                   columns=list('abcd'))\n",
       ">>> df\n",
       "     a    b    c     d\n",
       "0  0.0  NaN -1.0   1.0\n",
       "1  NaN  2.0  NaN   NaN\n",
       "2  2.0  3.0  NaN   9.0\n",
       "3  NaN  4.0 -4.0  16.0\n",
       ">>> df.interpolate(method='linear', limit_direction='forward', axis=0)\n",
       "     a    b    c     d\n",
       "0  0.0  NaN -1.0   1.0\n",
       "1  1.0  2.0 -2.0   5.0\n",
       "2  2.0  3.0 -3.0   9.0\n",
       "3  2.0  4.0 -4.0  16.0\n",
       "\n",
       "Using polynomial interpolation.\n",
       "\n",
       ">>> df['d'].interpolate(method='polynomial', order=2)\n",
       "0     1.0\n",
       "1     4.0\n",
       "2     9.0\n",
       "3    16.0\n",
       "Name: d, dtype: float64\n",
       "\u001b[0;31mFile:\u001b[0m      /usr/local/lib/python3.7/site-packages/pandas/core/generic.py\n",
       "\u001b[0;31mType:\u001b[0m      method\n"
      ]
     },
     "metadata": {},
     "output_type": "display_data"
    }
   ],
   "source": [
    "df.interpolate?"
   ]
  },
  {
   "cell_type": "code",
   "execution_count": 104,
   "metadata": {},
   "outputs": [
    {
     "name": "stdout",
     "output_type": "stream",
     "text": [
      "<class 'pandas.core.frame.DataFrame'>\n",
      "RangeIndex: 891 entries, 0 to 890\n",
      "Data columns (total 12 columns):\n",
      "PassengerId    891 non-null int64\n",
      "Survived       891 non-null int64\n",
      "Pclass         891 non-null int64\n",
      "Name           891 non-null object\n",
      "Sex            891 non-null object\n",
      "Age            891 non-null float64\n",
      "SibSp          891 non-null int64\n",
      "Parch          891 non-null int64\n",
      "Ticket         891 non-null object\n",
      "Fare           891 non-null float64\n",
      "Cabin          204 non-null object\n",
      "Embarked       889 non-null object\n",
      "dtypes: float64(2), int64(5), object(5)\n",
      "memory usage: 83.6+ KB\n"
     ]
    }
   ],
   "source": [
    "df.info("
   ]
  },
  {
   "cell_type": "code",
   "execution_count": null,
   "metadata": {},
   "outputs": [],
   "source": []
  }
 ],
 "metadata": {
  "kernelspec": {
   "display_name": "Python 3",
   "language": "python",
   "name": "python3"
  },
  "language_info": {
   "codemirror_mode": {
    "name": "ipython",
    "version": 3
   },
   "file_extension": ".py",
   "mimetype": "text/x-python",
   "name": "python",
   "nbconvert_exporter": "python",
   "pygments_lexer": "ipython3",
   "version": "3.7.2"
  }
 },
 "nbformat": 4,
 "nbformat_minor": 4
}
